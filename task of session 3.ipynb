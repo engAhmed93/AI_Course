{
 "cells": [
  {
   "cell_type": "code",
   "execution_count": 1,
   "id": "4b41ae0a",
   "metadata": {
    "ExecuteTime": {
     "end_time": "2021-11-23T16:59:22.210899Z",
     "start_time": "2021-11-23T16:59:22.202918Z"
    }
   },
   "outputs": [],
   "source": [
    "class car:\n",
    "    engine = None\n",
    "    output = None\n",
    "    transmission = None\n",
    "    topSpeed = None\n",
    "    cargoVolume = None\n",
    "    basePrice = None\n",
    "\n",
    "bmw = car()\n",
    "bmw.engine = \"turbocharged\"\n",
    "bmw.output = \"255 Horsepower\"\n",
    "bmw.transmission = \"8 speed automatic\"\n",
    "bmw.topSpeed = \"130 MPH\"\n",
    "bmw.cargoVolume = \"17 cu ft\"\n",
    "bmw.basePrice = \"40650 $\"\n",
    "\n",
    "tesla = car()\n",
    "tesla.engine = \"single permanent magnet electric model\"\n",
    "tesla.output = \"258 Horsepower\"\n",
    "tesla.transmission = \"single speed automatic\"\n",
    "tesla.topSpeed = \"130 MPH\"\n",
    "tesla.cargoVolume = \"15 cu ft\"\n",
    "tesla.basePrice = \"38990 $\""
   ]
  },
  {
   "cell_type": "code",
   "execution_count": 2,
   "id": "fdd6bc41",
   "metadata": {
    "ExecuteTime": {
     "end_time": "2021-11-23T16:59:33.771433Z",
     "start_time": "2021-11-23T16:59:33.745503Z"
    }
   },
   "outputs": [
    {
     "data": {
      "text/plain": [
       "'40650 $'"
      ]
     },
     "execution_count": 2,
     "metadata": {},
     "output_type": "execute_result"
    }
   ],
   "source": [
    "bmw.basePrice"
   ]
  },
  {
   "cell_type": "code",
   "execution_count": 3,
   "id": "3e95c4c5",
   "metadata": {
    "ExecuteTime": {
     "end_time": "2021-11-23T16:59:42.796394Z",
     "start_time": "2021-11-23T16:59:42.786397Z"
    }
   },
   "outputs": [
    {
     "data": {
      "text/plain": [
       "'single permanent magnet electric model'"
      ]
     },
     "execution_count": 3,
     "metadata": {},
     "output_type": "execute_result"
    }
   ],
   "source": [
    "tesla.engine"
   ]
  },
  {
   "cell_type": "code",
   "execution_count": 6,
   "id": "e035adcc",
   "metadata": {
    "ExecuteTime": {
     "end_time": "2021-11-23T17:04:55.843040Z",
     "start_time": "2021-11-23T17:04:55.824090Z"
    }
   },
   "outputs": [
    {
     "name": "stdout",
     "output_type": "stream",
     "text": [
      "1539759009408\n",
      "0x16680c9ee80\n"
     ]
    }
   ],
   "source": [
    "x = {\"a\": 1}\n",
    "x_id = id(x)\n",
    "\n",
    "x_hexa = hex(x_id)\n",
    "\n",
    "print(x_id)\n",
    "print(x_hexa)"
   ]
  },
  {
   "cell_type": "code",
   "execution_count": null,
   "id": "4edbc329",
   "metadata": {},
   "outputs": [],
   "source": []
  }
 ],
 "metadata": {
  "kernelspec": {
   "display_name": "Python 3",
   "language": "python",
   "name": "python3"
  },
  "language_info": {
   "codemirror_mode": {
    "name": "ipython",
    "version": 3
   },
   "file_extension": ".py",
   "mimetype": "text/x-python",
   "name": "python",
   "nbconvert_exporter": "python",
   "pygments_lexer": "ipython3",
   "version": "3.8.8"
  },
  "toc": {
   "base_numbering": 1,
   "nav_menu": {},
   "number_sections": true,
   "sideBar": true,
   "skip_h1_title": false,
   "title_cell": "Table of Contents",
   "title_sidebar": "Contents",
   "toc_cell": false,
   "toc_position": {},
   "toc_section_display": true,
   "toc_window_display": false
  },
  "varInspector": {
   "cols": {
    "lenName": 16,
    "lenType": 16,
    "lenVar": 40
   },
   "kernels_config": {
    "python": {
     "delete_cmd_postfix": "",
     "delete_cmd_prefix": "del ",
     "library": "var_list.py",
     "varRefreshCmd": "print(var_dic_list())"
    },
    "r": {
     "delete_cmd_postfix": ") ",
     "delete_cmd_prefix": "rm(",
     "library": "var_list.r",
     "varRefreshCmd": "cat(var_dic_list()) "
    }
   },
   "types_to_exclude": [
    "module",
    "function",
    "builtin_function_or_method",
    "instance",
    "_Feature"
   ],
   "window_display": false
  }
 },
 "nbformat": 4,
 "nbformat_minor": 5
}
